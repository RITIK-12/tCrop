{
  "nbformat": 4,
  "nbformat_minor": 0,
  "metadata": {
    "colab": {
      "provenance": [],
      "collapsed_sections": [],
      "include_colab_link": true
    },
    "kernelspec": {
      "name": "python3",
      "display_name": "Python 3"
    },
    "language_info": {
      "name": "python"
    },
    "accelerator": "GPU"
  },
  "cells": [
    {
      "cell_type": "markdown",
      "metadata": {
        "id": "view-in-github",
        "colab_type": "text"
      },
      "source": [
        "<a href=\"https://colab.research.google.com/github/RITIK-12/tCrop/blob/main/Paddy_Thermal_Image_Classification_Custom_CNN_1.ipynb\" target=\"_parent\"><img src=\"https://colab.research.google.com/assets/colab-badge.svg\" alt=\"Open In Colab\"/></a>"
      ]
    },
    {
      "cell_type": "code",
      "source": [
        "from google.colab import drive\n",
        "drive.mount('/content/drive')"
      ],
      "metadata": {
        "colab": {
          "base_uri": "https://localhost:8080/"
        },
        "id": "EjUTUf6rhkvS",
        "outputId": "0adfa33f-8f3f-4d69-bab6-1e01cc1c9637"
      },
      "execution_count": null,
      "outputs": [
        {
          "output_type": "stream",
          "name": "stdout",
          "text": [
            "Mounted at /content/drive\n"
          ]
        }
      ]
    },
    {
      "cell_type": "code",
      "source": [
        "!pip install wandb\n",
        "!wandb login"
      ],
      "metadata": {
        "colab": {
          "base_uri": "https://localhost:8080/"
        },
        "id": "F3_awnDejs-H",
        "outputId": "5c19e276-9195-496a-e4f7-15064e4d52ea"
      },
      "execution_count": null,
      "outputs": [
        {
          "output_type": "stream",
          "name": "stdout",
          "text": [
            "Collecting wandb\n",
            "  Downloading wandb-0.12.7-py2.py3-none-any.whl (1.7 MB)\n",
            "\u001b[K     |████████████████████████████████| 1.7 MB 5.4 MB/s \n",
            "\u001b[?25hRequirement already satisfied: requests<3,>=2.0.0 in /usr/local/lib/python3.7/dist-packages (from wandb) (2.23.0)\n",
            "Collecting pathtools\n",
            "  Downloading pathtools-0.1.2.tar.gz (11 kB)\n",
            "Requirement already satisfied: protobuf>=3.12.0 in /usr/local/lib/python3.7/dist-packages (from wandb) (3.17.3)\n",
            "Requirement already satisfied: Click!=8.0.0,>=7.0 in /usr/local/lib/python3.7/dist-packages (from wandb) (7.1.2)\n",
            "Collecting GitPython>=1.0.0\n",
            "  Downloading GitPython-3.1.24-py3-none-any.whl (180 kB)\n",
            "\u001b[K     |████████████████████████████████| 180 kB 45.8 MB/s \n",
            "\u001b[?25hRequirement already satisfied: promise<3,>=2.0 in /usr/local/lib/python3.7/dist-packages (from wandb) (2.3)\n",
            "Collecting shortuuid>=0.5.0\n",
            "  Downloading shortuuid-1.0.8-py3-none-any.whl (9.5 kB)\n",
            "Collecting sentry-sdk>=1.0.0\n",
            "  Downloading sentry_sdk-1.5.0-py2.py3-none-any.whl (140 kB)\n",
            "\u001b[K     |████████████████████████████████| 140 kB 45.6 MB/s \n",
            "\u001b[?25hCollecting configparser>=3.8.1\n",
            "  Downloading configparser-5.2.0-py3-none-any.whl (19 kB)\n",
            "Collecting yaspin>=1.0.0\n",
            "  Downloading yaspin-2.1.0-py3-none-any.whl (18 kB)\n",
            "Requirement already satisfied: psutil>=5.0.0 in /usr/local/lib/python3.7/dist-packages (from wandb) (5.4.8)\n",
            "Collecting docker-pycreds>=0.4.0\n",
            "  Downloading docker_pycreds-0.4.0-py2.py3-none-any.whl (9.0 kB)\n",
            "Requirement already satisfied: PyYAML in /usr/local/lib/python3.7/dist-packages (from wandb) (3.13)\n",
            "Collecting subprocess32>=3.5.3\n",
            "  Downloading subprocess32-3.5.4.tar.gz (97 kB)\n",
            "\u001b[K     |████████████████████████████████| 97 kB 6.5 MB/s \n",
            "\u001b[?25hRequirement already satisfied: six>=1.13.0 in /usr/local/lib/python3.7/dist-packages (from wandb) (1.15.0)\n",
            "Requirement already satisfied: python-dateutil>=2.6.1 in /usr/local/lib/python3.7/dist-packages (from wandb) (2.8.2)\n",
            "Requirement already satisfied: typing-extensions>=3.7.4.3 in /usr/local/lib/python3.7/dist-packages (from GitPython>=1.0.0->wandb) (3.10.0.2)\n",
            "Collecting gitdb<5,>=4.0.1\n",
            "  Downloading gitdb-4.0.9-py3-none-any.whl (63 kB)\n",
            "\u001b[K     |████████████████████████████████| 63 kB 1.8 MB/s \n",
            "\u001b[?25hCollecting smmap<6,>=3.0.1\n",
            "  Downloading smmap-5.0.0-py3-none-any.whl (24 kB)\n",
            "Requirement already satisfied: certifi>=2017.4.17 in /usr/local/lib/python3.7/dist-packages (from requests<3,>=2.0.0->wandb) (2021.10.8)\n",
            "Requirement already satisfied: urllib3!=1.25.0,!=1.25.1,<1.26,>=1.21.1 in /usr/local/lib/python3.7/dist-packages (from requests<3,>=2.0.0->wandb) (1.24.3)\n",
            "Requirement already satisfied: idna<3,>=2.5 in /usr/local/lib/python3.7/dist-packages (from requests<3,>=2.0.0->wandb) (2.10)\n",
            "Requirement already satisfied: chardet<4,>=3.0.2 in /usr/local/lib/python3.7/dist-packages (from requests<3,>=2.0.0->wandb) (3.0.4)\n",
            "Requirement already satisfied: termcolor<2.0.0,>=1.1.0 in /usr/local/lib/python3.7/dist-packages (from yaspin>=1.0.0->wandb) (1.1.0)\n",
            "Building wheels for collected packages: subprocess32, pathtools\n",
            "  Building wheel for subprocess32 (setup.py) ... \u001b[?25l\u001b[?25hdone\n",
            "  Created wheel for subprocess32: filename=subprocess32-3.5.4-py3-none-any.whl size=6502 sha256=ab15e9d682a1fe8fc4ef3242ec513f793fe82318caba400d6846cb228cca9165\n",
            "  Stored in directory: /root/.cache/pip/wheels/50/ca/fa/8fca8d246e64f19488d07567547ddec8eb084e8c0d7a59226a\n",
            "  Building wheel for pathtools (setup.py) ... \u001b[?25l\u001b[?25hdone\n",
            "  Created wheel for pathtools: filename=pathtools-0.1.2-py3-none-any.whl size=8807 sha256=882af18fc8051855c9a125e193cd64cec4aeedc47c31929fbb0bc9bcad63dd9a\n",
            "  Stored in directory: /root/.cache/pip/wheels/3e/31/09/fa59cef12cdcfecc627b3d24273699f390e71828921b2cbba2\n",
            "Successfully built subprocess32 pathtools\n",
            "Installing collected packages: smmap, gitdb, yaspin, subprocess32, shortuuid, sentry-sdk, pathtools, GitPython, docker-pycreds, configparser, wandb\n",
            "Successfully installed GitPython-3.1.24 configparser-5.2.0 docker-pycreds-0.4.0 gitdb-4.0.9 pathtools-0.1.2 sentry-sdk-1.5.0 shortuuid-1.0.8 smmap-5.0.0 subprocess32-3.5.4 wandb-0.12.7 yaspin-2.1.0\n",
            "\u001b[34m\u001b[1mwandb\u001b[0m: You can find your API key in your browser here: https://wandb.ai/authorize\n",
            "\u001b[34m\u001b[1mwandb\u001b[0m: Paste an API key from your profile and hit enter, or press ctrl+c to quit: \n",
            "\u001b[34m\u001b[1mwandb\u001b[0m: Appending key for api.wandb.ai to your netrc file: /root/.netrc\n"
          ]
        }
      ]
    },
    {
      "cell_type": "code",
      "source": [
        "import wandb\n",
        "wandb.init(project=\"diseaseClassification\", entity=\"ritik\")"
      ],
      "metadata": {
        "colab": {
          "base_uri": "https://localhost:8080/",
          "height": 74
        },
        "id": "-zjEVc2Jj8LK",
        "outputId": "75b9d701-79cd-496f-b169-69a80dbe45d3"
      },
      "execution_count": null,
      "outputs": [
        {
          "output_type": "stream",
          "name": "stderr",
          "text": [
            "\u001b[34m\u001b[1mwandb\u001b[0m: Currently logged in as: \u001b[33mritik\u001b[0m (use `wandb login --relogin` to force relogin)\n"
          ]
        },
        {
          "output_type": "display_data",
          "data": {
            "text/html": [
              "\n",
              "                    Syncing run <strong><a href=\"https://wandb.ai/ritik/diseaseClassification/runs/39epnrrw\" target=\"_blank\">polished-butterfly-1</a></strong> to <a href=\"https://wandb.ai/ritik/diseaseClassification\" target=\"_blank\">Weights & Biases</a> (<a href=\"https://docs.wandb.com/integrations/jupyter.html\" target=\"_blank\">docs</a>).<br/>\n",
              "\n",
              "                "
            ],
            "text/plain": [
              "<IPython.core.display.HTML object>"
            ]
          },
          "metadata": {}
        },
        {
          "output_type": "execute_result",
          "data": {
            "text/plain": [
              "<wandb.sdk.wandb_run.Run at 0x7f5c01bb0710>"
            ],
            "text/html": [
              "<button onClick=\"this.nextSibling.style.display='block';this.style.display='none';\">Display W&B run</button><iframe src=\"https://wandb.ai/ritik/diseaseClassification/runs/39epnrrw?jupyter=true\" style=\"border:none;width:100%;height:420px;display:none;\"></iframe>"
            ]
          },
          "metadata": {},
          "execution_count": 27
        }
      ]
    },
    {
      "cell_type": "code",
      "source": [
        "from wandb.keras import WandbCallback"
      ],
      "metadata": {
        "id": "i2Icnrt4lnqF"
      },
      "execution_count": null,
      "outputs": []
    },
    {
      "cell_type": "code",
      "source": [
        "wandb.config = {\n",
        "  \"learning_rate\": 0.001,\n",
        "  \"epochs\": 30,\n",
        "  \"batch_size\": 16\n",
        "}"
      ],
      "metadata": {
        "id": "HLyfZkSrj9rz"
      },
      "execution_count": null,
      "outputs": []
    },
    {
      "cell_type": "code",
      "metadata": {
        "id": "nDhs-aqO4c7E"
      },
      "source": [
        "import matplotlib.pyplot as plt\n",
        "import numpy as np\n",
        "import os\n",
        "import PIL\n",
        "import tensorflow as tf\n",
        "from tensorflow import keras\n",
        "from tensorflow.keras import layers\n",
        "from tensorflow.keras import models\n",
        "from tensorflow.keras.layers import Conv2D,MaxPooling2D,Dropout,Dense,Flatten\n",
        "from tensorflow.keras.models import Sequential\n",
        "from tensorflow.keras.optimizers import Adam\n",
        "from tensorflow.keras import regularizers\n",
        "from tensorflow.keras.applications import ResNet50\n",
        "from tensorflow.keras.models import Model\n",
        "import pathlib\n",
        "from sklearn.metrics import plot_confusion_matrix\n",
        "from sklearn.metrics import confusion_matrix\n",
        "import numpy\n",
        "from sklearn.metrics import confusion_matrix\n",
        "import itertools"
      ],
      "execution_count": null,
      "outputs": []
    },
    {
      "cell_type": "code",
      "source": [
        "import numpy as np\n",
        "import matplotlib.pyplot as plt\n",
        "\n",
        "# set width of bar\n",
        "barWidth = 0.25\n",
        "fig = plt.subplots(figsize =(12, 8))\n",
        "\n",
        "# set height of bar\n",
        "pre = [220, 67, 80, 142, 93]\n",
        "rec = [440, 469, 400, 426, 465]\n",
        "#f1 = [0.48, 0.37, 0.52, 0.30]\n",
        "\n",
        "# Set position of bar on X axis\n",
        "br1 = np.arange(len(pre))\n",
        "br2 = [x + barWidth for x in br1]\n",
        "# br3 = [x + barWidth for x in br2]\n",
        "\n",
        "# Make the plot\n",
        "plt.bar(br1, pre, color ='r', width = barWidth,\n",
        "\t\tedgecolor ='grey', label ='Orignal Dataset')\n",
        "plt.bar(br2, rec, color ='g', width = barWidth,\n",
        "\t\tedgecolor ='grey', label ='Augumented Dataset')\n",
        "# plt.bar(br3, f1, color ='b', width = barWidth,\n",
        "# \t\tedgecolor ='grey', label ='F1-Score')\n",
        "\n",
        "# Adding Xticks\n",
        "plt.xlabel('Diseases',  fontsize = 15)\n",
        "plt.ylabel('Number of Images',  fontsize = 15)\n",
        "plt.xticks([r + barWidth for r in range(len(pre))],\n",
        "\t\t['BLB', 'Blast', 'Leaf Spot', 'Hispa', 'Healthy'])\n",
        "\n",
        "plt.legend()\n",
        "plt.savefig('/content/data_augmentations.png')\n",
        "plt.show()\n"
      ],
      "metadata": {
        "id": "fCcfCqfHn9y9",
        "colab": {
          "base_uri": "https://localhost:8080/",
          "height": 502
        },
        "outputId": "a2824682-e01c-453d-a201-2cdb5060de68"
      },
      "execution_count": null,
      "outputs": [
        {
          "output_type": "display_data",
          "data": {
            "image/png": "[encoded data removed]",
            "text/plain": [
              "<Figure size 864x576 with 1 Axes>"
            ]
          },
          "metadata": {
            "needs_background": "light"
          }
        }
      ]
    },
    {
      "cell_type": "code",
      "metadata": {
        "id": "Ijw4W_Dn6aUi"
      },
      "source": [
        "data_dir = '/content/drive/MyDrive/PlantStressDetection/ThermalPaddyImages/Dataset/'\n",
        "data_dir = pathlib.Path(data_dir)\n",
        "train_dir = '/content/drive/MyDrive/PlantStressDetection/ThermalPaddyImages/Dataset/train/'\n",
        "train_dir = pathlib.Path(train_dir)\n",
        "test_dir = '/content/drive/MyDrive/PlantStressDetection/ThermalPaddyImages/Dataset/test/'\n",
        "test_dir = pathlib.Path(test_dir)\n",
        "valid_dir = '/content/drive/MyDrive/PlantStressDetection/ThermalPaddyImages/Dataset/val/'\n",
        "valid_dir = pathlib.Path(valid_dir)"
      ],
      "execution_count": null,
      "outputs": []
    },
    {
      "cell_type": "code",
      "metadata": {
        "colab": {
          "base_uri": "https://localhost:8080/"
        },
        "id": "DXELgf636eAK",
        "outputId": "93b8a262-a4c0-4174-8346-bf7383018198"
      },
      "source": [
        "image_count = len(list(data_dir.glob('*/*.jpg')))\n",
        "print(image_count)"
      ],
      "execution_count": null,
      "outputs": [
        {
          "output_type": "stream",
          "name": "stdout",
          "text": [
            "0\n"
          ]
        }
      ]
    },
    {
      "cell_type": "code",
      "metadata": {
        "id": "JYJCmj5f67My"
      },
      "source": [
        "batch_size = 16\n",
        "img_height = 224\n",
        "img_width = 224"
      ],
      "execution_count": null,
      "outputs": []
    },
    {
      "cell_type": "code",
      "metadata": {
        "colab": {
          "base_uri": "https://localhost:8080/"
        },
        "id": "Ammq7Ud97ECB",
        "outputId": "39905b0b-9035-4307-caa0-0ef007b73d70"
      },
      "source": [
        "train_ds = tf.keras.preprocessing.image_dataset_from_directory(\n",
        "  train_dir,\n",
        "  seed=123,\n",
        "  image_size=(img_height, img_width),\n",
        "  batch_size=batch_size,\n",
        "  label_mode='categorical'\n",
        "  )"
      ],
      "execution_count": null,
      "outputs": [
        {
          "output_type": "stream",
          "name": "stdout",
          "text": [
            "Found 1539 files belonging to 5 classes.\n"
          ]
        }
      ]
    },
    {
      "cell_type": "code",
      "metadata": {
        "colab": {
          "base_uri": "https://localhost:8080/"
        },
        "id": "UAo0205b7HqL",
        "outputId": "f5130c61-8fb9-4ef8-e7d6-3cc370c81d14"
      },
      "source": [
        "val_ds = tf.keras.preprocessing.image_dataset_from_directory(\n",
        "  valid_dir,\n",
        "  seed=123,\n",
        "  image_size=(img_height, img_width),\n",
        "  batch_size=batch_size,\n",
        "  label_mode='categorical')"
      ],
      "execution_count": null,
      "outputs": [
        {
          "output_type": "stream",
          "name": "stdout",
          "text": [
            "Found 439 files belonging to 5 classes.\n"
          ]
        }
      ]
    },
    {
      "cell_type": "code",
      "metadata": {
        "colab": {
          "base_uri": "https://localhost:8080/"
        },
        "id": "26meN8y47KrJ",
        "outputId": "639dce20-7efc-48ab-c7bc-ce4009fc6436"
      },
      "source": [
        "test_ds =  tf.keras.preprocessing.image_dataset_from_directory(\n",
        "    test_dir,\n",
        "    labels=\"inferred\",\n",
        "    label_mode = \"categorical\",\n",
        "    seed=123,\n",
        "    image_size=(img_height, img_width),\n",
        "    batch_size=1, shuffle = False)"
      ],
      "execution_count": null,
      "outputs": [
        {
          "output_type": "stream",
          "name": "stdout",
          "text": [
            "Found 222 files belonging to 5 classes.\n"
          ]
        }
      ]
    },
    {
      "cell_type": "code",
      "metadata": {
        "colab": {
          "base_uri": "https://localhost:8080/"
        },
        "id": "vrWbbnxI7NeS",
        "outputId": "f4083c33-b1a3-4387-d7aa-f1485f1423f4"
      },
      "source": [
        "class_names = test_ds.class_names\n",
        "print(class_names)"
      ],
      "execution_count": null,
      "outputs": [
        {
          "output_type": "stream",
          "name": "stdout",
          "text": [
            "['BLB', 'Blast', 'healthy', 'hispa', 'leaf_spot']\n"
          ]
        }
      ]
    },
    {
      "cell_type": "code",
      "metadata": {
        "colab": {
          "base_uri": "https://localhost:8080/"
        },
        "id": "LoIRRU497RHC",
        "outputId": "cb36be08-2731-461c-f2ad-f1a02a06f12f"
      },
      "source": [
        "for image_batch, labels_batch in train_ds:\n",
        "  print(image_batch.shape)\n",
        "  print(labels_batch.shape)\n",
        "  break"
      ],
      "execution_count": null,
      "outputs": [
        {
          "output_type": "stream",
          "name": "stdout",
          "text": [
            "(16, 224, 224, 3)\n",
            "(16, 5)\n"
          ]
        }
      ]
    },
    {
      "cell_type": "code",
      "metadata": {
        "id": "cCuKl7vI7UQ5"
      },
      "source": [
        "AUTOTUNE = tf.data.AUTOTUNE\n",
        "train_ds = train_ds.cache().prefetch(buffer_size=AUTOTUNE)\n",
        "val_ds = val_ds.cache().prefetch(buffer_size=AUTOTUNE) "
      ],
      "execution_count": null,
      "outputs": []
    },
    {
      "cell_type": "code",
      "metadata": {
        "id": "jfdN0Fi49YVh"
      },
      "source": [
        "filepath = \"/content/drive/MyDrive/PlantDiseaseThermal/WandBmodels/Custom1.h5\""
      ],
      "execution_count": null,
      "outputs": []
    },
    {
      "cell_type": "code",
      "metadata": {
        "id": "GdHhiUkb9pGR"
      },
      "source": [
        "adam = tf.keras.optimizers.Adam(learning_rate=0.0001)\n",
        "\n",
        "model_save = tf.keras.callbacks.ModelCheckpoint(filepath, monitor=\"val_accuracy\", verbose=0, save_best_only=True, save_weights_only=False, mode=\"max\", save_freq=\"epoch\")\n",
        " \n",
        "reduce_lr = tf.keras.callbacks.ReduceLROnPlateau(monitor='val_loss',\n",
        "                                   factor=0.2,\n",
        "                                   patience=4,\n",
        "                                   verbose=1,\n",
        "                                   min_delta=1e-3,min_lr = 5*1e-12,\n",
        "                                   )\n",
        "\n",
        "callbacks = [model_save,  reduce_lr, WandbCallback()]"
      ],
      "execution_count": null,
      "outputs": []
    },
    {
      "cell_type": "code",
      "metadata": {
        "id": "kuURlVtzghCE"
      },
      "source": [
        "model = models.Sequential()\n",
        "model.add(layers.Conv2D(32, (10, 10), activation='relu', input_shape=(224, 224, 3)))\n",
        "model.add(layers.BatchNormalization())\n",
        "model.add(layers.MaxPooling2D())\n",
        "model.add(layers.Conv2D(64, (7, 7), activation='relu'))\n",
        "model.add(layers.BatchNormalization())\n",
        "model.add(layers.MaxPooling2D())\n",
        "model.add(layers.Conv2D(96, (5, 5), activation='relu'))\n",
        "model.add(layers.BatchNormalization())\n",
        "model.add(layers.Conv2D(128, (5, 5), activation='relu'))\n",
        "model.add(layers.BatchNormalization())\n",
        "model.add(layers.Conv2D(256, (3, 3), activation='relu'))\n",
        "model.add(layers.BatchNormalization())\n",
        "model.add(layers.GlobalMaxPooling2D())\n",
        "model.add(Dense(1024, activation='relu'))\n",
        "model.add(Dropout(0.25))\n",
        "model.add(Dense(5, activation='softmax'))"
      ],
      "execution_count": null,
      "outputs": []
    },
    {
      "cell_type": "code",
      "metadata": {
        "id": "rn8XDlVNhIUp",
        "colab": {
          "base_uri": "https://localhost:8080/"
        },
        "outputId": "5e135916-1fe3-46c4-b95e-41d308e950d1"
      },
      "source": [
        "model.summary()"
      ],
      "execution_count": null,
      "outputs": [
        {
          "output_type": "stream",
          "name": "stdout",
          "text": [
            "Model: \"sequential_1\"\n",
            "_________________________________________________________________\n",
            " Layer (type)                Output Shape              Param #   \n",
            "=================================================================\n",
            " conv2d_5 (Conv2D)           (None, 215, 215, 32)      9632      \n",
            "                                                                 \n",
            " batch_normalization_5 (Batc  (None, 215, 215, 32)     128       \n",
            " hNormalization)                                                 \n",
            "                                                                 \n",
            " max_pooling2d_2 (MaxPooling  (None, 107, 107, 32)     0         \n",
            " 2D)                                                             \n",
            "                                                                 \n",
            " conv2d_6 (Conv2D)           (None, 101, 101, 64)      100416    \n",
            "                                                                 \n",
            " batch_normalization_6 (Batc  (None, 101, 101, 64)     256       \n",
            " hNormalization)                                                 \n",
            "                                                                 \n",
            " max_pooling2d_3 (MaxPooling  (None, 50, 50, 64)       0         \n",
            " 2D)                                                             \n",
            "                                                                 \n",
            " conv2d_7 (Conv2D)           (None, 46, 46, 96)        153696    \n",
            "                                                                 \n",
            " batch_normalization_7 (Batc  (None, 46, 46, 96)       384       \n",
            " hNormalization)                                                 \n",
            "                                                                 \n",
            " conv2d_8 (Conv2D)           (None, 42, 42, 128)       307328    \n",
            "                                                                 \n",
            " batch_normalization_8 (Batc  (None, 42, 42, 128)      512       \n",
            " hNormalization)                                                 \n",
            "                                                                 \n",
            " conv2d_9 (Conv2D)           (None, 40, 40, 256)       295168    \n",
            "                                                                 \n",
            " batch_normalization_9 (Batc  (None, 40, 40, 256)      1024      \n",
            " hNormalization)                                                 \n",
            "                                                                 \n",
            " global_max_pooling2d_1 (Glo  (None, 256)              0         \n",
            " balMaxPooling2D)                                                \n",
            "                                                                 \n",
            " dense_2 (Dense)             (None, 1024)              263168    \n",
            "                                                                 \n",
            " dropout_1 (Dropout)         (None, 1024)              0         \n",
            "                                                                 \n",
            " dense_3 (Dense)             (None, 5)                 5125      \n",
            "                                                                 \n",
            "=================================================================\n",
            "Total params: 1,136,837\n",
            "Trainable params: 1,135,685\n",
            "Non-trainable params: 1,152\n",
            "_________________________________________________________________\n"
          ]
        }
      ]
    },
    {
      "cell_type": "code",
      "metadata": {
        "id": "KeDajZmu9seZ"
      },
      "source": [
        "model.compile(optimizer = 'adam', loss = \"categorical_crossentropy\", metrics='accuracy')"
      ],
      "execution_count": null,
      "outputs": []
    },
    {
      "cell_type": "code",
      "metadata": {
        "colab": {
          "base_uri": "https://localhost:8080/"
        },
        "id": "pwYYRiJB9uu4",
        "outputId": "cf2ca6b1-65d4-4db3-c244-72546dea30bc"
      },
      "source": [
        "history =  model.fit(train_ds, validation_data=val_ds, steps_per_epoch=np.ceil(float(1539)/float(batch_size)), epochs = 30,callbacks= callbacks, validation_steps=np.ceil(float(439)/float(batch_size)), use_multiprocessing= True)"
      ],
      "execution_count": null,
      "outputs": [
        {
          "output_type": "stream",
          "name": "stdout",
          "text": [
            "Epoch 1/30\n",
            "97/97 [==============================] - 222s 2s/step - loss: 1.9785 - accuracy: 0.3827 - val_loss: 6.5169 - val_accuracy: 0.2506 - lr: 0.0010\n",
            "Epoch 2/30\n",
            "97/97 [==============================] - 17s 174ms/step - loss: 1.2252 - accuracy: 0.5094 - val_loss: 1.9802 - val_accuracy: 0.3759 - lr: 0.0010\n",
            "Epoch 3/30\n",
            "97/97 [==============================] - 17s 175ms/step - loss: 0.9527 - accuracy: 0.6225 - val_loss: 0.9852 - val_accuracy: 0.6082 - lr: 0.0010\n",
            "Epoch 4/30\n",
            "97/97 [==============================] - 17s 174ms/step - loss: 0.8112 - accuracy: 0.6810 - val_loss: 0.7698 - val_accuracy: 0.6993 - lr: 0.0010\n",
            "Epoch 5/30\n",
            "97/97 [==============================] - 17s 174ms/step - loss: 0.7200 - accuracy: 0.7212 - val_loss: 0.7792 - val_accuracy: 0.7175 - lr: 0.0010\n",
            "Epoch 6/30\n",
            "97/97 [==============================] - 16s 168ms/step - loss: 0.6647 - accuracy: 0.7407 - val_loss: 0.8855 - val_accuracy: 0.7153 - lr: 0.0010\n",
            "Epoch 7/30\n",
            "97/97 [==============================] - 16s 168ms/step - loss: 0.5653 - accuracy: 0.7869 - val_loss: 1.2549 - val_accuracy: 0.5763 - lr: 0.0010\n",
            "Epoch 8/30\n",
            "97/97 [==============================] - 16s 169ms/step - loss: 0.5161 - accuracy: 0.8116 - val_loss: 0.7627 - val_accuracy: 0.7153 - lr: 0.0010\n",
            "Epoch 9/30\n",
            "97/97 [==============================] - 17s 175ms/step - loss: 0.4533 - accuracy: 0.8233 - val_loss: 0.7521 - val_accuracy: 0.7198 - lr: 0.0010\n",
            "Epoch 10/30\n",
            "97/97 [==============================] - 16s 168ms/step - loss: 0.4243 - accuracy: 0.8350 - val_loss: 1.1975 - val_accuracy: 0.6720 - lr: 0.0010\n",
            "Epoch 11/30\n",
            "97/97 [==============================] - 17s 173ms/step - loss: 0.3987 - accuracy: 0.8525 - val_loss: 0.8582 - val_accuracy: 0.7426 - lr: 0.0010\n",
            "Epoch 12/30\n",
            "97/97 [==============================] - 17s 173ms/step - loss: 0.3639 - accuracy: 0.8752 - val_loss: 0.8045 - val_accuracy: 0.7585 - lr: 0.0010\n",
            "Epoch 13/30\n",
            "97/97 [==============================] - 17s 175ms/step - loss: 0.3449 - accuracy: 0.8648 - val_loss: 0.6385 - val_accuracy: 0.7904 - lr: 0.0010\n",
            "Epoch 14/30\n",
            "97/97 [==============================] - 16s 168ms/step - loss: 0.2997 - accuracy: 0.8934 - val_loss: 0.7936 - val_accuracy: 0.7358 - lr: 0.0010\n",
            "Epoch 15/30\n",
            "97/97 [==============================] - 16s 168ms/step - loss: 0.2795 - accuracy: 0.8973 - val_loss: 0.8512 - val_accuracy: 0.7563 - lr: 0.0010\n",
            "Epoch 16/30\n",
            "97/97 [==============================] - 16s 168ms/step - loss: 0.2551 - accuracy: 0.9103 - val_loss: 0.7815 - val_accuracy: 0.7859 - lr: 0.0010\n",
            "Epoch 17/30\n",
            "97/97 [==============================] - ETA: 0s - loss: 0.2213 - accuracy: 0.9123\n",
            "Epoch 00017: ReduceLROnPlateau reducing learning rate to 0.00020000000949949026.\n",
            "97/97 [==============================] - 17s 173ms/step - loss: 0.2213 - accuracy: 0.9123 - val_loss: 0.6564 - val_accuracy: 0.8155 - lr: 0.0010\n",
            "Epoch 18/30\n",
            "97/97 [==============================] - 17s 174ms/step - loss: 0.1396 - accuracy: 0.9513 - val_loss: 0.4054 - val_accuracy: 0.8747 - lr: 2.0000e-04\n",
            "Epoch 19/30\n",
            "97/97 [==============================] - 17s 174ms/step - loss: 0.0763 - accuracy: 0.9773 - val_loss: 0.3734 - val_accuracy: 0.8793 - lr: 2.0000e-04\n",
            "Epoch 20/30\n",
            "97/97 [==============================] - 16s 169ms/step - loss: 0.0575 - accuracy: 0.9838 - val_loss: 0.3465 - val_accuracy: 0.8793 - lr: 2.0000e-04\n",
            "Epoch 21/30\n",
            "97/97 [==============================] - 17s 174ms/step - loss: 0.0432 - accuracy: 0.9903 - val_loss: 0.3494 - val_accuracy: 0.8861 - lr: 2.0000e-04\n",
            "Epoch 22/30\n",
            "97/97 [==============================] - 17s 172ms/step - loss: 0.0343 - accuracy: 0.9948 - val_loss: 0.3571 - val_accuracy: 0.8884 - lr: 2.0000e-04\n",
            "Epoch 23/30\n",
            "97/97 [==============================] - 16s 168ms/step - loss: 0.0297 - accuracy: 0.9955 - val_loss: 0.3565 - val_accuracy: 0.8838 - lr: 2.0000e-04\n",
            "Epoch 24/30\n",
            "97/97 [==============================] - ETA: 0s - loss: 0.0286 - accuracy: 0.9955\n",
            "Epoch 00024: ReduceLROnPlateau reducing learning rate to 4.0000001899898055e-05.\n",
            "97/97 [==============================] - 16s 169ms/step - loss: 0.0286 - accuracy: 0.9955 - val_loss: 0.3460 - val_accuracy: 0.8861 - lr: 2.0000e-04\n",
            "Epoch 25/30\n",
            "97/97 [==============================] - 17s 175ms/step - loss: 0.0204 - accuracy: 0.9968 - val_loss: 0.3424 - val_accuracy: 0.8952 - lr: 4.0000e-05\n",
            "Epoch 26/30\n",
            "97/97 [==============================] - 16s 168ms/step - loss: 0.0176 - accuracy: 0.9987 - val_loss: 0.3470 - val_accuracy: 0.8929 - lr: 4.0000e-05\n",
            "Epoch 27/30\n",
            "97/97 [==============================] - 16s 168ms/step - loss: 0.0174 - accuracy: 0.9981 - val_loss: 0.3498 - val_accuracy: 0.8952 - lr: 4.0000e-05\n",
            "Epoch 28/30\n",
            "97/97 [==============================] - 16s 168ms/step - loss: 0.0158 - accuracy: 0.9987 - val_loss: 0.3504 - val_accuracy: 0.8929 - lr: 4.0000e-05\n",
            "Epoch 29/30\n",
            "97/97 [==============================] - ETA: 0s - loss: 0.0157 - accuracy: 0.9994\n",
            "Epoch 00029: ReduceLROnPlateau reducing learning rate to 8.000000525498762e-06.\n",
            "97/97 [==============================] - 16s 168ms/step - loss: 0.0157 - accuracy: 0.9994 - val_loss: 0.3460 - val_accuracy: 0.8929 - lr: 4.0000e-05\n",
            "Epoch 30/30\n",
            "97/97 [==============================] - 16s 168ms/step - loss: 0.0164 - accuracy: 0.9974 - val_loss: 0.3454 - val_accuracy: 0.8952 - lr: 8.0000e-06\n"
          ]
        }
      ]
    },
    {
      "cell_type": "code",
      "metadata": {
        "colab": {
          "base_uri": "https://localhost:8080/",
          "height": 294
        },
        "id": "ufkoqv6w94oA",
        "outputId": "1e564771-90ba-47f1-9c5f-a22a29210473"
      },
      "source": [
        "# summarize history for accuracy\n",
        "plt.plot(history.history['accuracy'])\n",
        "plt.plot(history.history['val_accuracy'])\n",
        "plt.title('tCrop Disease Classification Model Accuracy')\n",
        "plt.ylabel('Accuracy')\n",
        "plt.xlabel('Epochs')\n",
        "plt.legend(['train', 'val'], loc='upper left')\n",
        "plt.savefig('/content/drive/MyDrive/PlantDiseaseThermal/figures/custom_1_acc.png', bbox_inches='tight')\n",
        "plt.show()"
      ],
      "execution_count": null,
      "outputs": [
        {
          "output_type": "display_data",
          "data": {
            "image/png": "[encoded data removed]",
            "text/plain": [
              "<Figure size 432x288 with 1 Axes>"
            ]
          },
          "metadata": {
            "needs_background": "light"
          }
        }
      ]
    },
    {
      "cell_type": "code",
      "metadata": {
        "colab": {
          "base_uri": "https://localhost:8080/",
          "height": 294
        },
        "id": "16kbt0v397gR",
        "outputId": "7b6bc7b1-e120-40db-fa8a-819cbc8bc8b5"
      },
      "source": [
        "# summarize history for loss\n",
        "plt.plot(history.history['loss'])\n",
        "plt.plot(history.history['val_loss'])\n",
        "plt.title('tCrop Disease Classification Model Loss')\n",
        "plt.ylabel('Loss')\n",
        "plt.xlabel('Epochs')\n",
        "plt.legend(['train', 'val'], loc='upper left')\n",
        "plt.savefig('/content/drive/MyDrive/PlantDiseaseThermal/figures/custom_1_loss.png', bbox_inches='tight')\n",
        "plt.show()"
      ],
      "execution_count": null,
      "outputs": [
        {
          "output_type": "display_data",
          "data": {
            "image/png": "[encoded data removed]",
            "text/plain": [
              "<Figure size 432x288 with 1 Axes>"
            ]
          },
          "metadata": {
            "needs_background": "light"
          }
        }
      ]
    },
    {
      "cell_type": "code",
      "metadata": {
        "colab": {
          "base_uri": "https://localhost:8080/"
        },
        "id": "FU_RLc9299CI",
        "outputId": "c6ce1d41-acf5-4bc3-b805-1e414a3fee50"
      },
      "source": [
        "#Prediction Function\n",
        "array = model.predict(test_ds, batch_size=1, verbose=1)\n",
        "y_pred = np.argmax(array, axis=1)"
      ],
      "execution_count": null,
      "outputs": [
        {
          "output_type": "stream",
          "name": "stdout",
          "text": [
            "222/222 [==============================] - 29s 128ms/step\n"
          ]
        }
      ]
    },
    {
      "cell_type": "code",
      "metadata": {
        "id": "Nj1s2MxT-FzQ"
      },
      "source": [
        "y_true = y = np.concatenate([y for x, y in test_ds], axis=0)"
      ],
      "execution_count": null,
      "outputs": []
    },
    {
      "cell_type": "code",
      "metadata": {
        "id": "uFli3E4p-K_A",
        "colab": {
          "base_uri": "https://localhost:8080/"
        },
        "outputId": "72af539d-cc6f-47ae-f7dc-ec68c3e6e195"
      },
      "source": [
        "rounded_labels=np.argmax(y_true, axis=1)\n",
        "rounded_labels[1]"
      ],
      "execution_count": null,
      "outputs": [
        {
          "output_type": "execute_result",
          "data": {
            "text/plain": [
              "0"
            ]
          },
          "metadata": {},
          "execution_count": 44
        }
      ]
    },
    {
      "cell_type": "code",
      "metadata": {
        "id": "vqwM9e63-Lfg"
      },
      "source": [
        "conf_mat = confusion_matrix(rounded_labels, y_pred)"
      ],
      "execution_count": null,
      "outputs": []
    },
    {
      "cell_type": "code",
      "source": [
        "conf_mat"
      ],
      "metadata": {
        "colab": {
          "base_uri": "https://localhost:8080/"
        },
        "id": "obp14rJMqi0Y",
        "outputId": "09c11b6e-f675-415b-bbaf-cdcf38e35eec"
      },
      "execution_count": null,
      "outputs": [
        {
          "output_type": "execute_result",
          "data": {
            "text/plain": [
              "array([[42,  0,  1,  1,  0],\n",
              "       [ 0, 41,  1,  3,  3],\n",
              "       [ 0,  0, 46,  1,  0],\n",
              "       [ 2,  0,  0, 41,  0],\n",
              "       [ 1,  0,  1,  1, 37]])"
            ]
          },
          "metadata": {},
          "execution_count": 51
        }
      ]
    },
    {
      "cell_type": "code",
      "metadata": {
        "id": "2xwabWNS-NFQ"
      },
      "source": [
        "classes = class_names"
      ],
      "execution_count": null,
      "outputs": []
    },
    {
      "cell_type": "code",
      "metadata": {
        "colab": {
          "base_uri": "https://localhost:8080/"
        },
        "id": "rdeYrpW6-S93",
        "outputId": "8f18787f-3ce6-47dd-999d-1337224d0ab2"
      },
      "source": [
        "from sklearn import metrics\n",
        "report = metrics.classification_report(rounded_labels, y_pred, target_names=classes)\n",
        "print(report) "
      ],
      "execution_count": null,
      "outputs": [
        {
          "output_type": "stream",
          "name": "stdout",
          "text": [
            "              precision    recall  f1-score   support\n",
            "\n",
            "         BLB       0.93      0.95      0.94        44\n",
            "       Blast       1.00      0.85      0.92        48\n",
            "     healthy       0.94      0.98      0.96        47\n",
            "       hispa       0.87      0.95      0.91        43\n",
            "   leaf_spot       0.93      0.93      0.93        40\n",
            "\n",
            "    accuracy                           0.93       222\n",
            "   macro avg       0.93      0.93      0.93       222\n",
            "weighted avg       0.94      0.93      0.93       222\n",
            "\n"
          ]
        }
      ]
    },
    {
      "cell_type": "code",
      "source": [
        "import numpy as np\n",
        "import matplotlib.pyplot as plt\n",
        "\n",
        "def plot_confusion_matrix(cm,\n",
        "                          target_names,\n",
        "                          title='Confusion matrix',\n",
        "                          cmap=None,\n",
        "                          normalize=True):\n",
        "    import matplotlib.pyplot as plt\n",
        "    import numpy as np\n",
        "    import itertools\n",
        "\n",
        "    accuracy = np.trace(cm) / float(np.sum(cm))\n",
        "    misclass = 1 - accuracy\n",
        "\n",
        "    if cmap is None:\n",
        "        cmap = plt.get_cmap('Blues')\n",
        "\n",
        "    plt.figure(figsize=(8, 6))\n",
        "    plt.imshow(cm, interpolation='nearest', cmap=cmap)\n",
        "    plt.title(title)\n",
        "    plt.colorbar()\n",
        "\n",
        "    if target_names is not None:\n",
        "        tick_marks = np.arange(len(target_names))\n",
        "        plt.xticks(tick_marks, target_names, rotation=45)\n",
        "        plt.yticks(tick_marks, target_names)\n",
        "\n",
        "    if normalize:\n",
        "        cm = cm.astype('float') / cm.sum(axis=1)[:, np.newaxis]\n",
        "\n",
        "\n",
        "    thresh = cm.max() / 1.5 if normalize else cm.max() / 2\n",
        "    for i, j in itertools.product(range(cm.shape[0]), range(cm.shape[1])):\n",
        "        if normalize:\n",
        "            plt.text(j, i, \"{:0.4f}\".format(cm[i, j]),\n",
        "                     horizontalalignment=\"center\",\n",
        "                     color=\"white\" if cm[i, j] > thresh else \"black\")\n",
        "        else:\n",
        "            plt.text(j, i, \"{:,}\".format(cm[i, j]),\n",
        "                     horizontalalignment=\"center\",\n",
        "                     color=\"white\" if cm[i, j] > thresh else \"black\")\n",
        "\n",
        "\n",
        "    plt.tight_layout()\n",
        "    plt.ylabel('True label')\n",
        "    #plt.xlabel('Predicted label\\naccuracy={:0.4f}; misclass={:0.4f}'.format(accuracy, misclass))\n",
        "    plt.xlabel('Predicted label')\n",
        "    plt.savefig('/content/drive/MyDrive/PlantDiseaseThermal/figures/ConfusionMetrics/{}1.jpg'.format(title))\n",
        "    plt.show()"
      ],
      "metadata": {
        "id": "MdirPsAFptxC"
      },
      "execution_count": null,
      "outputs": []
    },
    {
      "cell_type": "code",
      "source": [
        "plot_confusion_matrix(conf_mat,target_names=classes,title='tCrop Confusion Matrix',normalize=False)"
      ],
      "metadata": {
        "colab": {
          "base_uri": "https://localhost:8080/",
          "height": 454
        },
        "id": "MUFkH6m0p8iu",
        "outputId": "c29e2e18-f132-4c2e-b1b2-98df5e102d68"
      },
      "execution_count": null,
      "outputs": [
        {
          "output_type": "display_data",
          "data": {
            "image/png": "[encoded data removed]",
            "text/plain": [
              "<Figure size 576x432 with 2 Axes>"
            ]
          },
          "metadata": {
            "needs_background": "light"
          }
        }
      ]
    },
    {
      "cell_type": "code",
      "source": [
        "plot_confusion_matrix(conf_mat,target_names=classes,title='tCrop Normalized Confusion Matrix',normalize=True)"
      ],
      "metadata": {
        "colab": {
          "base_uri": "https://localhost:8080/",
          "height": 454
        },
        "id": "_gAvtaSrqXNH",
        "outputId": "b3377601-d2d7-4551-995b-3c19082f82d0"
      },
      "execution_count": null,
      "outputs": [
        {
          "output_type": "display_data",
          "data": {
            "image/png": "[encoded data removed]",
            "text/plain": [
              "<Figure size 576x432 with 2 Axes>"
            ]
          },
          "metadata": {
            "needs_background": "light"
          }
        }
      ]
    },
    {
      "cell_type": "code",
      "source": [],
      "metadata": {
        "id": "-350WLz_zgRM"
      },
      "execution_count": null,
      "outputs": []
    },
    {
      "cell_type": "code",
      "source": [
        "model = tf.keras.models.load_model('/content/drive/MyDrive/PlantDiseaseThermal/WandBmodels/Custom1.h5')"
      ],
      "metadata": {
        "id": "Mi_7yhwjzgMq"
      },
      "execution_count": null,
      "outputs": []
    },
    {
      "cell_type": "code",
      "source": [
        "import tensorflow as tf\n",
        "\n",
        "# To Convert the Keras model.\n",
        "converter = tf.lite.TFLiteConverter.from_keras_model(model)\n",
        "\n",
        "# Using float 16 quantization.\n",
        "converter.optimizations = [tf.lite.Optimize.DEFAULT]\n",
        "converter.target_spec.supported_types = [tf.float16]\n",
        "\n",
        "# Converting the model \n",
        "tflite_fp16_model = converter.convert()\n",
        "\n",
        "# Saving the model.\n",
        "with open('/content/drive/MyDrive/PlantDiseaseThermal/WandBmodels/model.tflite', 'wb') as f:\n",
        "  f.write(tflite_fp16_model)"
      ],
      "metadata": {
        "colab": {
          "base_uri": "https://localhost:8080/"
        },
        "id": "i_UpHxFhzgJB",
        "outputId": "161c4f36-89b0-4084-95c4-3cd32d6cdfc5"
      },
      "execution_count": null,
      "outputs": [
        {
          "output_type": "stream",
          "name": "stdout",
          "text": [
            "INFO:tensorflow:Assets written to: /tmp/tmppu_mirqu/assets\n"
          ]
        },
        {
          "output_type": "stream",
          "name": "stderr",
          "text": [
            "WARNING:absl:Buffer deduplication procedure will be skipped when flatbuffer library is not properly loaded\n"
          ]
        }
      ]
    },
    {
      "cell_type": "code",
      "metadata": {
        "id": "0w0Qa3GRtruP"
      },
      "source": [
        "#Importing Libraries\n",
        "from __future__ import absolute_import, division, print_function, unicode_literals\n",
        "from tensorflow.keras.preprocessing.image import ImageDataGenerator\n",
        "import matplotlib.pylab as plt\n",
        "import tensorflow as tf\n",
        "import tensorflow_hub as hub\n",
        "import numpy as np\n",
        "import pandas as pd\n",
        "from sklearn import metrics\n",
        "from sklearn.metrics import plot_confusion_matrix\n",
        "from sklearn.metrics import confusion_matrix"
      ],
      "execution_count": null,
      "outputs": []
    },
    {
      "cell_type": "code",
      "metadata": {
        "id": "1BDQS2U9MU2g"
      },
      "source": [
        "#Defining Image Data Generator\n",
        "gen =ImageDataGenerator()"
      ],
      "execution_count": null,
      "outputs": []
    },
    {
      "cell_type": "code",
      "metadata": {
        "colab": {
          "base_uri": "https://localhost:8080/"
        },
        "id": "gUOCb0anMZjO",
        "outputId": "061cc7d6-db7d-499c-8651-4bcbd3209fb6"
      },
      "source": [
        "#Loading Test Set\n",
        "test_datagen_new = gen.flow_from_directory(\n",
        "    '/content/drive/MyDrive/PlantStressDetection/ThermalPaddyImages/Dataset/test/',\n",
        "    target_size=(224, 224),\n",
        "    color_mode=\"rgb\",\n",
        "    classes=None,\n",
        "    class_mode=\"categorical\",\n",
        "    batch_size=222,\n",
        "    shuffle=False,\n",
        "    interpolation=\"nearest\"\n",
        ")"
      ],
      "execution_count": null,
      "outputs": [
        {
          "output_type": "stream",
          "name": "stdout",
          "text": [
            "Found 222 images belonging to 5 classes.\n"
          ]
        }
      ]
    },
    {
      "cell_type": "code",
      "metadata": {
        "colab": {
          "base_uri": "https://localhost:8080/"
        },
        "id": "_TCrD3jzMhDw",
        "outputId": "90bb9f1b-ddb1-4152-d862-90de2b65efb8"
      },
      "source": [
        "#Dataset Labels \n",
        "dataset_labels = sorted(test_datagen_new.class_indices.items(), key=lambda pair:pair[1])\n",
        "dataset_labels = np.array([key.title() for key, value in dataset_labels])\n",
        "print(dataset_labels)"
      ],
      "execution_count": null,
      "outputs": [
        {
          "output_type": "stream",
          "name": "stdout",
          "text": [
            "['Blb' 'Blast' 'Healthy' 'Hispa' 'Leaf_Spot']\n"
          ]
        }
      ]
    },
    {
      "cell_type": "code",
      "metadata": {
        "colab": {
          "base_uri": "https://localhost:8080/"
        },
        "id": "HPiVRaAYMzBA",
        "outputId": "a348b291-85cf-4798-dcf9-2505e89be4fe"
      },
      "source": [
        "# Get images and labels batch from validation dataset generator\n",
        "test_image_batch, test_label_batch = next(iter(test_datagen_new))\n",
        "test_image_batch = test_image_batch.astype('float32')\n",
        "#test_image_batch = (x.astype(np.uint8) for x in test_image_batch)\n",
        "#test_image_batch =  tf.cast(test_image_batch, tf.float32)/255.0\n",
        "true_label_ids = np.argmax(test_label_batch,  axis=0)\n",
        "print(\"test batch shape:\", test_image_batch.shape)"
      ],
      "execution_count": null,
      "outputs": [
        {
          "output_type": "stream",
          "name": "stdout",
          "text": [
            "test batch shape: (222, 224, 224, 3)\n"
          ]
        }
      ]
    },
    {
      "cell_type": "code",
      "metadata": {
        "id": "bqx8PrhgM1VF"
      },
      "source": [
        "#True Labels for images\n",
        "true_label_ids = test_label_batch.squeeze().argmax(axis = 1)"
      ],
      "execution_count": null,
      "outputs": []
    },
    {
      "cell_type": "code",
      "metadata": {
        "colab": {
          "base_uri": "https://localhost:8080/"
        },
        "id": "HkDf1FxnM2ki",
        "outputId": "e04ddbb1-024a-41cd-9e04-9a1a9ad79178"
      },
      "source": [
        "true_label_ids"
      ],
      "execution_count": null,
      "outputs": [
        {
          "output_type": "execute_result",
          "data": {
            "text/plain": [
              "array([0, 0, 0, 0, 0, 0, 0, 0, 0, 0, 0, 0, 0, 0, 0, 0, 0, 0, 0, 0, 0, 0,\n",
              "       0, 0, 0, 0, 0, 0, 0, 0, 0, 0, 0, 0, 0, 0, 0, 0, 0, 0, 0, 0, 0, 0,\n",
              "       1, 1, 1, 1, 1, 1, 1, 1, 1, 1, 1, 1, 1, 1, 1, 1, 1, 1, 1, 1, 1, 1,\n",
              "       1, 1, 1, 1, 1, 1, 1, 1, 1, 1, 1, 1, 1, 1, 1, 1, 1, 1, 1, 1, 1, 1,\n",
              "       1, 1, 1, 1, 2, 2, 2, 2, 2, 2, 2, 2, 2, 2, 2, 2, 2, 2, 2, 2, 2, 2,\n",
              "       2, 2, 2, 2, 2, 2, 2, 2, 2, 2, 2, 2, 2, 2, 2, 2, 2, 2, 2, 2, 2, 2,\n",
              "       2, 2, 2, 2, 2, 2, 2, 3, 3, 3, 3, 3, 3, 3, 3, 3, 3, 3, 3, 3, 3, 3,\n",
              "       3, 3, 3, 3, 3, 3, 3, 3, 3, 3, 3, 3, 3, 3, 3, 3, 3, 3, 3, 3, 3, 3,\n",
              "       3, 3, 3, 3, 3, 3, 4, 4, 4, 4, 4, 4, 4, 4, 4, 4, 4, 4, 4, 4, 4, 4,\n",
              "       4, 4, 4, 4, 4, 4, 4, 4, 4, 4, 4, 4, 4, 4, 4, 4, 4, 4, 4, 4, 4, 4,\n",
              "       4, 4])"
            ]
          },
          "metadata": {},
          "execution_count": 34
        }
      ]
    },
    {
      "cell_type": "code",
      "source": [
        "tflite_interpreter = tf.lite.Interpreter(model_path=\"/content/drive/MyDrive/PlantDiseaseThermal/WandBmodels/model.tflite\")\n",
        "\n",
        "input_details = tflite_interpreter.get_input_details()\n",
        "output_details = tflite_interpreter.get_output_details()\n",
        "\n",
        "print(\"== Input details ==\")\n",
        "print(\"shape:\", input_details[0]['shape'])\n",
        "print(\"type:\", input_details[0]['dtype'])\n",
        "print(\"\\n== Output details ==\")\n",
        "print(\"shape:\", output_details[0]['shape'])\n",
        "print(\"type:\", output_details[0]['dtype'])"
      ],
      "metadata": {
        "colab": {
          "base_uri": "https://localhost:8080/"
        },
        "id": "eUCQqTJL3bah",
        "outputId": "8742a3ce-a0ad-46c6-c54e-c47dbcacc878"
      },
      "execution_count": null,
      "outputs": [
        {
          "output_type": "stream",
          "name": "stdout",
          "text": [
            "== Input details ==\n",
            "shape: [  1 224 224   3]\n",
            "type: <class 'numpy.float32'>\n",
            "\n",
            "== Output details ==\n",
            "shape: [1 5]\n",
            "type: <class 'numpy.float32'>\n"
          ]
        }
      ]
    },
    {
      "cell_type": "code",
      "source": [
        "tflite_interpreter.resize_tensor_input(input_details[0]['index'], (222, 224, 224, 3))\n",
        "tflite_interpreter.resize_tensor_input(output_details[0]['index'], (222, 5))\n",
        "tflite_interpreter.allocate_tensors()\n",
        "\n",
        "input_details = tflite_interpreter.get_input_details()\n",
        "output_details = tflite_interpreter.get_output_details()\n",
        "\n",
        "print(\"== Input details ==\")\n",
        "print(\"shape:\", input_details[0]['shape'])\n",
        "print(\"\\n== Output details ==\")\n",
        "print(\"shape:\", output_details[0]['shape'])"
      ],
      "metadata": {
        "colab": {
          "base_uri": "https://localhost:8080/"
        },
        "id": "UlufMThP37gg",
        "outputId": "2df4c1d9-0a4a-424b-bd35-1dc597502268"
      },
      "execution_count": null,
      "outputs": [
        {
          "output_type": "stream",
          "name": "stdout",
          "text": [
            "== Input details ==\n",
            "shape: [222 224 224   3]\n",
            "\n",
            "== Output details ==\n",
            "shape: [222   5]\n"
          ]
        }
      ]
    },
    {
      "cell_type": "code",
      "metadata": {
        "id": "8AwSqaRqM32r",
        "colab": {
          "base_uri": "https://localhost:8080/"
        },
        "outputId": "cc632724-ba2e-4893-97ca-ccb385a3652b"
      },
      "source": [
        "# Set batch of images into input tensor\n",
        "tflite_interpreter.set_tensor(input_details[0]['index'], test_image_batch)# test_datagen_new )#\n",
        "# Run inference\n",
        "tflite_interpreter.invoke()\n",
        "# Get prediction results\n",
        "tflite_model_predictions = tflite_interpreter.get_tensor(output_details[0]['index'])\n",
        "print(\"Prediction results shape:\", tflite_model_predictions.shape)"
      ],
      "execution_count": null,
      "outputs": [
        {
          "output_type": "stream",
          "name": "stdout",
          "text": [
            "Prediction results shape: (222, 5)\n"
          ]
        }
      ]
    },
    {
      "cell_type": "code",
      "metadata": {
        "id": "crIUkPxWM54m"
      },
      "source": [
        "tflite_model_predictions = tflite_model_predictions.squeeze().argmax(axis = 1)"
      ],
      "execution_count": null,
      "outputs": []
    },
    {
      "cell_type": "code",
      "metadata": {
        "id": "_umTnWEsM7le"
      },
      "source": [
        "classes = dataset_labels\n",
        "conf_mat1 = confusion_matrix(true_label_ids, tflite_model_predictions)"
      ],
      "execution_count": null,
      "outputs": []
    },
    {
      "cell_type": "code",
      "metadata": {
        "id": "jhjOlxw6NCuq",
        "colab": {
          "base_uri": "https://localhost:8080/"
        },
        "outputId": "81569d25-2939-402a-882a-dd4a362a0693"
      },
      "source": [
        "#Classification Report\n",
        "report1 = metrics.classification_report(true_label_ids, tflite_model_predictions, target_names=classes)\n",
        "print(report1) "
      ],
      "execution_count": null,
      "outputs": [
        {
          "output_type": "stream",
          "name": "stdout",
          "text": [
            "              precision    recall  f1-score   support\n",
            "\n",
            "         Blb       0.93      0.95      0.94        44\n",
            "       Blast       1.00      0.85      0.92        48\n",
            "     Healthy       0.96      0.98      0.97        47\n",
            "       Hispa       0.87      0.95      0.91        43\n",
            "   Leaf_Spot       0.93      0.95      0.94        40\n",
            "\n",
            "    accuracy                           0.94       222\n",
            "   macro avg       0.94      0.94      0.94       222\n",
            "weighted avg       0.94      0.94      0.94       222\n",
            "\n"
          ]
        }
      ]
    },
    {
      "cell_type": "code",
      "source": [
        "conf_mat1"
      ],
      "metadata": {
        "colab": {
          "base_uri": "https://localhost:8080/"
        },
        "id": "w3WsnGe13vZ5",
        "outputId": "3e6d034d-df31-401d-e6b3-a93e280fe694"
      },
      "execution_count": null,
      "outputs": [
        {
          "output_type": "execute_result",
          "data": {
            "text/plain": [
              "array([[42,  0,  1,  1,  0],\n",
              "       [ 0, 41,  1,  3,  3],\n",
              "       [ 0,  0, 46,  1,  0],\n",
              "       [ 2,  0,  0, 41,  0],\n",
              "       [ 1,  0,  0,  1, 38]])"
            ]
          },
          "metadata": {},
          "execution_count": 46
        }
      ]
    },
    {
      "cell_type": "code",
      "source": [
        "plot_confusion_matrix(conf_mat1,target_names=classes,title='tCrop Confusion Matrix',normalize=False)"
      ],
      "metadata": {
        "colab": {
          "base_uri": "https://localhost:8080/",
          "height": 454
        },
        "id": "IciYJvjM4UdR",
        "outputId": "f24e9832-47ca-4aff-e271-b5db65efaf2a"
      },
      "execution_count": null,
      "outputs": [
        {
          "output_type": "display_data",
          "data": {
            "image/png": "[encoded data removed]",
            "text/plain": [
              "<Figure size 576x432 with 2 Axes>"
            ]
          },
          "metadata": {
            "needs_background": "light"
          }
        }
      ]
    },
    {
      "cell_type": "code",
      "source": [],
      "metadata": {
        "id": "21pmxLEvQ3tO"
      },
      "execution_count": null,
      "outputs": []
    }
  ]
}